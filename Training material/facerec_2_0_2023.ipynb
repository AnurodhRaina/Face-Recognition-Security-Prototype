{
  "nbformat": 4,
  "nbformat_minor": 0,
  "metadata": {
    "colab": {
      "provenance": []
    },
    "kernelspec": {
      "name": "python3",
      "display_name": "Python 3"
    },
    "language_info": {
      "name": "python"
    },
    "accelerator": "GPU",
    "gpuClass": "standard"
  },
  "cells": [
    {
      "cell_type": "code",
      "source": [
        "!unzip Headshots.zip -d Headshots"
      ],
      "metadata": {
        "id": "0vhUkXUqVswP"
      },
      "execution_count": null,
      "outputs": []
    },
    {
      "cell_type": "code",
      "execution_count": 2,
      "metadata": {
        "id": "Advy5hb4VgHO"
      },
      "outputs": [],
      "source": [
        "import os\n",
        "import pandas as pd\n",
        "import numpy as np\n",
        "import tensorflow.keras as keras\n",
        "import matplotlib.pyplot as plt\n",
        "\n",
        "from tensorflow.keras.layers import Dense, GlobalAveragePooling2D\n",
        "\n",
        "from tensorflow.keras.preprocessing import image\n",
        "from tensorflow.keras.applications.mobilenet import preprocess_input\n",
        "\n",
        "from tensorflow.keras.preprocessing.image import ImageDataGenerator\n",
        "\n",
        "from tensorflow.keras.models import Model\n",
        "\n",
        "from tensorflow.keras.optimizers import Adam"
      ]
    },
    {
      "cell_type": "code",
      "source": [
        "train_datagen = ImageDataGenerator(preprocessing_function=preprocess_input)\n",
        "\n",
        "train_generator = \\\n",
        "    train_datagen.flow_from_directory('./Headshots',\n",
        "target_size=(224,224),\n",
        "color_mode='rgb',\n",
        "batch_size=32,\n",
        "class_mode='categorical',\n",
        "shuffle=True)"
      ],
      "metadata": {
        "colab": {
          "base_uri": "https://localhost:8080/"
        },
        "id": "wpi7k-cQV_KV",
        "outputId": "29358f26-9f22-44f1-f105-c3f1bddf47c6"
      },
      "execution_count": 3,
      "outputs": [
        {
          "output_type": "stream",
          "name": "stdout",
          "text": [
            "Found 224 images belonging to 2 classes.\n"
          ]
        }
      ]
    },
    {
      "cell_type": "code",
      "source": [
        "train_generator.class_indices.values()\n",
        "# dict_values([0, 1, 2])\n",
        "NO_CLASSES = len(train_generator.class_indices.values())"
      ],
      "metadata": {
        "id": "dtD8V9rpWNkB"
      },
      "execution_count": 4,
      "outputs": []
    },
    {
      "cell_type": "code",
      "source": [
        "!pip install keras_vggface"
      ],
      "metadata": {
        "colab": {
          "base_uri": "https://localhost:8080/"
        },
        "id": "Uz2tT3bEWYvk",
        "outputId": "aa6071b1-8464-4b79-a130-407ca5c75cc2"
      },
      "execution_count": 5,
      "outputs": [
        {
          "output_type": "stream",
          "name": "stdout",
          "text": [
            "Installing collected packages: keras_vggface\n",
            "Successfully installed keras_vggface-0.6\n"
          ]
        }
      ]
    },
    {
      "cell_type": "code",
      "source": [
        "!pip install keras_applications\n",
        "!pip install keras_preprocessing"
      ],
      "metadata": {
        "id": "lFwyLNnzWxud"
      },
      "execution_count": 6,
      "outputs": []
    },
    {
      "cell_type": "code",
      "source": [
        "from keras_vggface.vggface import VGGFace\n",
        "\n",
        "base_model = VGGFace(include_top=True,\n",
        "    model='vgg16',\n",
        "    input_shape=(224, 224, 3))\n",
        "base_model.summary()\n",
        "\n",
        "print(len(base_model.layers))\n",
        "# 26 layers in the original VGG-Face\n"
      ],
      "metadata": {
        "colab": {
          "base_uri": "https://localhost:8080/"
        },
        "id": "tIJ9-FrfWP8W",
        "outputId": "32ce6834-7236-4010-8969-8ea58024f2b8"
      },
      "execution_count": 8,
      "outputs": [
        {
          "output_type": "stream",
          "name": "stdout",
          "text": [
            "Downloading data from https://github.com/rcmalli/keras-vggface/releases/download/v2.0/rcmalli_vggface_tf_vgg16.h5\n",
            "580070376/580070376 [==============================] - 4s 0us/step\n",
            "Model: \"vggface_vgg16\"\n",
            "_________________________________________________________________\n",
            " Layer (type)                Output Shape              Param #   \n",
            "=================================================================\n",
            " input_1 (InputLayer)        [(None, 224, 224, 3)]     0         \n",
            "                                                                 \n",
            " conv1_1 (Conv2D)            (None, 224, 224, 64)      1792      \n",
            "                                                                 \n",
            " conv1_2 (Conv2D)            (None, 224, 224, 64)      36928     \n",
            "                                                                 \n",
            " pool1 (MaxPooling2D)        (None, 112, 112, 64)      0         \n",
            "                                                                 \n",
            " conv2_1 (Conv2D)            (None, 112, 112, 128)     73856     \n",
            "                                                                 \n",
            " conv2_2 (Conv2D)            (None, 112, 112, 128)     147584    \n",
            "                                                                 \n",
            " pool2 (MaxPooling2D)        (None, 56, 56, 128)       0         \n",
            "                                                                 \n",
            " conv3_1 (Conv2D)            (None, 56, 56, 256)       295168    \n",
            "                                                                 \n",
            " conv3_2 (Conv2D)            (None, 56, 56, 256)       590080    \n",
            "                                                                 \n",
            " conv3_3 (Conv2D)            (None, 56, 56, 256)       590080    \n",
            "                                                                 \n",
            " pool3 (MaxPooling2D)        (None, 28, 28, 256)       0         \n",
            "                                                                 \n",
            " conv4_1 (Conv2D)            (None, 28, 28, 512)       1180160   \n",
            "                                                                 \n",
            " conv4_2 (Conv2D)            (None, 28, 28, 512)       2359808   \n",
            "                                                                 \n",
            " conv4_3 (Conv2D)            (None, 28, 28, 512)       2359808   \n",
            "                                                                 \n",
            " pool4 (MaxPooling2D)        (None, 14, 14, 512)       0         \n",
            "                                                                 \n",
            " conv5_1 (Conv2D)            (None, 14, 14, 512)       2359808   \n",
            "                                                                 \n",
            " conv5_2 (Conv2D)            (None, 14, 14, 512)       2359808   \n",
            "                                                                 \n",
            " conv5_3 (Conv2D)            (None, 14, 14, 512)       2359808   \n",
            "                                                                 \n",
            " pool5 (MaxPooling2D)        (None, 7, 7, 512)         0         \n",
            "                                                                 \n",
            " flatten (Flatten)           (None, 25088)             0         \n",
            "                                                                 \n",
            " fc6 (Dense)                 (None, 4096)              102764544 \n",
            "                                                                 \n",
            " fc6/relu (Activation)       (None, 4096)              0         \n",
            "                                                                 \n",
            " fc7 (Dense)                 (None, 4096)              16781312  \n",
            "                                                                 \n",
            " fc7/relu (Activation)       (None, 4096)              0         \n",
            "                                                                 \n",
            " fc8 (Dense)                 (None, 2622)              10742334  \n",
            "                                                                 \n",
            " fc8/softmax (Activation)    (None, 2622)              0         \n",
            "                                                                 \n",
            "=================================================================\n",
            "Total params: 145,002,878\n",
            "Trainable params: 145,002,878\n",
            "Non-trainable params: 0\n",
            "_________________________________________________________________\n",
            "26\n"
          ]
        }
      ]
    },
    {
      "cell_type": "code",
      "source": [
        " \n",
        "base_model = VGGFace(include_top=False,\n",
        "model='vgg16',\n",
        "input_shape=(224, 224, 3))\n",
        "base_model.summary()\n",
        "print(len(base_model.layers))\n",
        "# 19 layers after excluding the last few layers"
      ],
      "metadata": {
        "colab": {
          "base_uri": "https://localhost:8080/"
        },
        "id": "x7EcokNJaNFS",
        "outputId": "8def32be-3deb-4582-817e-2b8d696e3992"
      },
      "execution_count": 9,
      "outputs": [
        {
          "output_type": "stream",
          "name": "stdout",
          "text": [
            "Downloading data from https://github.com/rcmalli/keras-vggface/releases/download/v2.0/rcmalli_vggface_tf_notop_vgg16.h5\n",
            "58909280/58909280 [==============================] - 1s 0us/step\n",
            "Model: \"vggface_vgg16\"\n",
            "_________________________________________________________________\n",
            " Layer (type)                Output Shape              Param #   \n",
            "=================================================================\n",
            " input_2 (InputLayer)        [(None, 224, 224, 3)]     0         \n",
            "                                                                 \n",
            " conv1_1 (Conv2D)            (None, 224, 224, 64)      1792      \n",
            "                                                                 \n",
            " conv1_2 (Conv2D)            (None, 224, 224, 64)      36928     \n",
            "                                                                 \n",
            " pool1 (MaxPooling2D)        (None, 112, 112, 64)      0         \n",
            "                                                                 \n",
            " conv2_1 (Conv2D)            (None, 112, 112, 128)     73856     \n",
            "                                                                 \n",
            " conv2_2 (Conv2D)            (None, 112, 112, 128)     147584    \n",
            "                                                                 \n",
            " pool2 (MaxPooling2D)        (None, 56, 56, 128)       0         \n",
            "                                                                 \n",
            " conv3_1 (Conv2D)            (None, 56, 56, 256)       295168    \n",
            "                                                                 \n",
            " conv3_2 (Conv2D)            (None, 56, 56, 256)       590080    \n",
            "                                                                 \n",
            " conv3_3 (Conv2D)            (None, 56, 56, 256)       590080    \n",
            "                                                                 \n",
            " pool3 (MaxPooling2D)        (None, 28, 28, 256)       0         \n",
            "                                                                 \n",
            " conv4_1 (Conv2D)            (None, 28, 28, 512)       1180160   \n",
            "                                                                 \n",
            " conv4_2 (Conv2D)            (None, 28, 28, 512)       2359808   \n",
            "                                                                 \n",
            " conv4_3 (Conv2D)            (None, 28, 28, 512)       2359808   \n",
            "                                                                 \n",
            " pool4 (MaxPooling2D)        (None, 14, 14, 512)       0         \n",
            "                                                                 \n",
            " conv5_1 (Conv2D)            (None, 14, 14, 512)       2359808   \n",
            "                                                                 \n",
            " conv5_2 (Conv2D)            (None, 14, 14, 512)       2359808   \n",
            "                                                                 \n",
            " conv5_3 (Conv2D)            (None, 14, 14, 512)       2359808   \n",
            "                                                                 \n",
            " pool5 (MaxPooling2D)        (None, 7, 7, 512)         0         \n",
            "                                                                 \n",
            "=================================================================\n",
            "Total params: 14,714,688\n",
            "Trainable params: 14,714,688\n",
            "Non-trainable params: 0\n",
            "_________________________________________________________________\n",
            "19\n"
          ]
        }
      ]
    },
    {
      "cell_type": "code",
      "source": [
        "x = base_model.output\n",
        "x = GlobalAveragePooling2D()(x)\n",
        "\n",
        "x = Dense(1024, activation='relu')(x)\n",
        "x = Dense(1024, activation='relu')(x)\n",
        "x = Dense(512, activation='relu')(x)\n",
        "\n",
        "# final layer with softmax activation\n",
        "preds = Dense(NO_CLASSES, activation='softmax')(x)\n",
        "model = Model(base_model.input,preds)"
      ],
      "metadata": {
        "id": "Ab1LkskXaXzr"
      },
      "execution_count": 16,
      "outputs": []
    },
    {
      "cell_type": "code",
      "source": [
        "\n",
        "# don't train the first 19 layers - 0..18\n",
        "for layer in model.layers[:19]:\n",
        "    layer.trainable = False\n",
        "\n",
        "# train the rest of the layers - 19 onwards\n",
        "for layer in model.layers[19:]:\n",
        "    layer.trainable = True"
      ],
      "metadata": {
        "id": "tvchqUmyab16"
      },
      "execution_count": 17,
      "outputs": []
    },
    {
      "cell_type": "code",
      "source": [
        "model.compile(optimizer='Adam',\n",
        "    loss='categorical_crossentropy',\n",
        "    metrics=['accuracy'])"
      ],
      "metadata": {
        "id": "CuszkKfFcnRo"
      },
      "execution_count": 18,
      "outputs": []
    },
    {
      "cell_type": "code",
      "source": [
        "model.fit(train_generator,\n",
        "  batch_size = 1,\n",
        "  verbose = 1,\n",
        "  epochs = 20)"
      ],
      "metadata": {
        "colab": {
          "base_uri": "https://localhost:8080/"
        },
        "id": "uPdPGTcPcpDV",
        "outputId": "439c561d-5dd9-4087-cf7a-d79e1b28c748"
      },
      "execution_count": 19,
      "outputs": [
        {
          "output_type": "stream",
          "name": "stdout",
          "text": [
            "Epoch 1/20\n",
            "7/7 [==============================] - 2s 166ms/step - loss: 0.5797 - accuracy: 0.7098\n",
            "Epoch 2/20\n",
            "7/7 [==============================] - 1s 166ms/step - loss: 0.2125 - accuracy: 0.9152\n",
            "Epoch 3/20\n",
            "7/7 [==============================] - 1s 169ms/step - loss: 0.1712 - accuracy: 0.9509\n",
            "Epoch 4/20\n",
            "7/7 [==============================] - 1s 169ms/step - loss: 0.0904 - accuracy: 0.9866\n",
            "Epoch 5/20\n",
            "7/7 [==============================] - 1s 168ms/step - loss: 0.0566 - accuracy: 0.9911\n",
            "Epoch 6/20\n",
            "7/7 [==============================] - 1s 170ms/step - loss: 0.0616 - accuracy: 0.9866\n",
            "Epoch 7/20\n",
            "7/7 [==============================] - 1s 173ms/step - loss: 0.0889 - accuracy: 0.9866\n",
            "Epoch 8/20\n",
            "7/7 [==============================] - 1s 170ms/step - loss: 0.0455 - accuracy: 0.9866\n",
            "Epoch 9/20\n",
            "7/7 [==============================] - 1s 170ms/step - loss: 0.0389 - accuracy: 0.9911\n",
            "Epoch 10/20\n",
            "7/7 [==============================] - 1s 171ms/step - loss: 0.0389 - accuracy: 0.9911\n",
            "Epoch 11/20\n",
            "7/7 [==============================] - 1s 173ms/step - loss: 0.0317 - accuracy: 0.9911\n",
            "Epoch 12/20\n",
            "7/7 [==============================] - 1s 172ms/step - loss: 0.0247 - accuracy: 0.9911\n",
            "Epoch 13/20\n",
            "7/7 [==============================] - 1s 172ms/step - loss: 0.0228 - accuracy: 0.9955\n",
            "Epoch 14/20\n",
            "7/7 [==============================] - 1s 172ms/step - loss: 0.0209 - accuracy: 0.9955\n",
            "Epoch 15/20\n",
            "7/7 [==============================] - 1s 173ms/step - loss: 0.0278 - accuracy: 0.9911\n",
            "Epoch 16/20\n",
            "7/7 [==============================] - 1s 174ms/step - loss: 0.0142 - accuracy: 0.9955\n",
            "Epoch 17/20\n",
            "7/7 [==============================] - 1s 175ms/step - loss: 0.0152 - accuracy: 0.9955\n",
            "Epoch 18/20\n",
            "7/7 [==============================] - 1s 173ms/step - loss: 0.0127 - accuracy: 0.9911\n",
            "Epoch 19/20\n",
            "7/7 [==============================] - 1s 169ms/step - loss: 0.0292 - accuracy: 0.9911\n",
            "Epoch 20/20\n",
            "7/7 [==============================] - 1s 170ms/step - loss: 0.0238 - accuracy: 0.9955\n"
          ]
        },
        {
          "output_type": "execute_result",
          "data": {
            "text/plain": [
              "<keras.callbacks.History at 0x7fca805c1a30>"
            ]
          },
          "metadata": {},
          "execution_count": 19
        }
      ]
    },
    {
      "cell_type": "code",
      "source": [
        "# creates a HDF5 file\n",
        "model.save(\n",
        "    'transfer_learning_trained' +\n",
        "    '_face_cnn_model.h5')\n"
      ],
      "metadata": {
        "id": "9tBM8-eocyb_"
      },
      "execution_count": 20,
      "outputs": []
    },
    {
      "cell_type": "code",
      "source": [
        "from tensorflow.keras.models import load_model\n",
        "\n",
        "model = load_model(\n",
        "    'transfer_learning_trained' +\n",
        "    '_face_cnn_model.h5')\n"
      ],
      "metadata": {
        "id": "Dhb_xMGugSSa"
      },
      "execution_count": 15,
      "outputs": []
    },
    {
      "cell_type": "code",
      "source": [
        "from PIL import Image"
      ],
      "metadata": {
        "id": "0sPdCQvvjgOh"
      },
      "execution_count": 23,
      "outputs": []
    },
    {
      "cell_type": "code",
      "source": [
        "face_to_check = Image.open(str('/content/0_picture_3.png'))\n",
        "face_to_check = face_to_check.resize((224,224))\n",
        "face_to_check = np.array(face_to_check)"
      ],
      "metadata": {
        "id": "yENmI6kMgXnn"
      },
      "execution_count": 28,
      "outputs": []
    },
    {
      "cell_type": "code",
      "source": [
        "model = keras.models.load_model('transfer_learning_trained_face_cnn_model.h5')\n",
        "# model = keras.models.load_model('face_predictor2.0')\n",
        "preds = model.pr(x=np.array([face_to_check]))\n",
        "print(preds[0])"
      ],
      "metadata": {
        "colab": {
          "base_uri": "https://localhost:8080/",
          "height": 217
        },
        "id": "C8mnal10jei8",
        "outputId": "0d0efdb5-4a2d-4c0d-bdda-893ca79ac451"
      },
      "execution_count": 30,
      "outputs": [
        {
          "output_type": "error",
          "ename": "AttributeError",
          "evalue": "ignored",
          "traceback": [
            "\u001b[0;31m---------------------------------------------------------------------------\u001b[0m",
            "\u001b[0;31mAttributeError\u001b[0m                            Traceback (most recent call last)",
            "\u001b[0;32m<ipython-input-30-3ef2d2126e8d>\u001b[0m in \u001b[0;36m<module>\u001b[0;34m\u001b[0m\n\u001b[1;32m      1\u001b[0m \u001b[0mmodel\u001b[0m \u001b[0;34m=\u001b[0m \u001b[0mkeras\u001b[0m\u001b[0;34m.\u001b[0m\u001b[0mmodels\u001b[0m\u001b[0;34m.\u001b[0m\u001b[0mload_model\u001b[0m\u001b[0;34m(\u001b[0m\u001b[0;34m'transfer_learning_trained_face_cnn_model.h5'\u001b[0m\u001b[0;34m)\u001b[0m\u001b[0;34m\u001b[0m\u001b[0;34m\u001b[0m\u001b[0m\n\u001b[1;32m      2\u001b[0m \u001b[0;31m# model = keras.models.load_model('face_predictor2.0')\u001b[0m\u001b[0;34m\u001b[0m\u001b[0;34m\u001b[0m\u001b[0;34m\u001b[0m\u001b[0m\n\u001b[0;32m----> 3\u001b[0;31m \u001b[0mpreds\u001b[0m \u001b[0;34m=\u001b[0m \u001b[0mmodel\u001b[0m\u001b[0;34m.\u001b[0m\u001b[0mpredict_proba\u001b[0m\u001b[0;34m(\u001b[0m\u001b[0mx\u001b[0m\u001b[0;34m=\u001b[0m\u001b[0mnp\u001b[0m\u001b[0;34m.\u001b[0m\u001b[0marray\u001b[0m\u001b[0;34m(\u001b[0m\u001b[0;34m[\u001b[0m\u001b[0mface_to_check\u001b[0m\u001b[0;34m]\u001b[0m\u001b[0;34m)\u001b[0m\u001b[0;34m)\u001b[0m\u001b[0;34m\u001b[0m\u001b[0;34m\u001b[0m\u001b[0m\n\u001b[0m\u001b[1;32m      4\u001b[0m \u001b[0mprint\u001b[0m\u001b[0;34m(\u001b[0m\u001b[0mpreds\u001b[0m\u001b[0;34m[\u001b[0m\u001b[0;36m0\u001b[0m\u001b[0;34m]\u001b[0m\u001b[0;34m)\u001b[0m\u001b[0;34m\u001b[0m\u001b[0;34m\u001b[0m\u001b[0m\n",
            "\u001b[0;31mAttributeError\u001b[0m: 'Functional' object has no attribute 'predict_proba'"
          ]
        }
      ]
    },
    {
      "cell_type": "code",
      "source": [],
      "metadata": {
        "id": "66xqwAkIjpxL"
      },
      "execution_count": null,
      "outputs": []
    }
  ]
}